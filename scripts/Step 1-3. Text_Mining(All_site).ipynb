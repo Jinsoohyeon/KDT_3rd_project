{
 "cells": [
  {
   "cell_type": "code",
   "execution_count": null,
   "id": "6510b70c",
   "metadata": {},
   "outputs": [],
   "source": [
    "import pandas as pd\n",
    "import numpy as np"
   ]
  },
  {
   "cell_type": "code",
   "execution_count": null,
   "id": "9c99b559",
   "metadata": {},
   "outputs": [],
   "source": [
    "# row 생략 없이 출력\n",
    "pd.set_option('display.max_rows', 100)\n",
    "# col 생략 없이 출력\n",
    "pd.set_option('display.max_columns', None)"
   ]
  },
  {
   "cell_type": "markdown",
   "id": "56aca06a",
   "metadata": {},
   "source": [
    "# 1. 데이터 불러오기"
   ]
  },
  {
   "cell_type": "code",
   "execution_count": null,
   "id": "bcaa5411",
   "metadata": {},
   "outputs": [],
   "source": [
    "data = pd.read_csv(\"../data/review.csv\")\n",
    "# data"
   ]
  },
  {
   "cell_type": "markdown",
   "id": "abb37411",
   "metadata": {},
   "source": [
    "# 2. 데이터 탐색"
   ]
  },
  {
   "cell_type": "code",
   "execution_count": null,
   "id": "650095d5",
   "metadata": {},
   "outputs": [],
   "source": [
    "data.info()"
   ]
  },
  {
   "cell_type": "markdown",
   "id": "73cc7dc9",
   "metadata": {},
   "source": [
    "- 작성일은 데이터 사용이 없으므로 결측값 처리 x\n",
    "- 작성연도와 작성월은 결측값 1개 있는데 그 값은 제외\n",
    "- float > int로 바꾸기"
   ]
  },
  {
   "cell_type": "markdown",
   "id": "b0d70137",
   "metadata": {},
   "source": [
    "## 2.1 데이터 타입 변경\n",
    "- 작성연도, 작성월, 작성일: int형으로"
   ]
  },
  {
   "cell_type": "code",
   "execution_count": null,
   "id": "8502f9d9",
   "metadata": {},
   "outputs": [],
   "source": [
    "data.작성연도 = data.작성연도.astype(\"Int64\")\n",
    "data.작성월 = data.작성월.astype(\"Int64\")\n",
    "data.작성일 = data.작성일.astype(\"Int64\")"
   ]
  },
  {
   "cell_type": "code",
   "execution_count": null,
   "id": "9b46fc82",
   "metadata": {},
   "outputs": [],
   "source": [
    "data.info()"
   ]
  },
  {
   "cell_type": "markdown",
   "id": "7ee3cd8d",
   "metadata": {},
   "source": [
    "## 2.2 데이터 정제\n",
    "- 리뷰 : \\n 지우기\n",
    "- 장소 : 강원도청 공공데이터를 보고 장소 일치시키기"
   ]
  },
  {
   "cell_type": "markdown",
   "id": "a1a0468c",
   "metadata": {},
   "source": [
    "### 2.2.1 장소 이름 변경"
   ]
  },
  {
   "cell_type": "code",
   "execution_count": null,
   "id": "dd5891f8",
   "metadata": {
    "collapsed": true
   },
   "outputs": [],
   "source": [
    "sorted(data[\"장소\"].unique())"
   ]
  },
  {
   "cell_type": "code",
   "execution_count": null,
   "id": "d8f426e3",
   "metadata": {
    "collapsed": true
   },
   "outputs": [],
   "source": [
    "scrap_loc = sorted(data[\"장소\"].unique())\n",
    "len(scrap_loc)"
   ]
  },
  {
   "cell_type": "code",
   "execution_count": null,
   "id": "9ae5b018",
   "metadata": {},
   "outputs": [],
   "source": [
    "data.sort_values(by=['장소'])\n",
    "# 장소 이름 '?'로 표시되는 행 index 각각 11144, 11078"
   ]
  },
  {
   "cell_type": "markdown",
   "id": "d40d9b85",
   "metadata": {},
   "source": [
    "- 장소 이름 띄어쓰기 삭제"
   ]
  },
  {
   "cell_type": "code",
   "execution_count": null,
   "id": "ac1cd171",
   "metadata": {
    "scrolled": true
   },
   "outputs": [],
   "source": [
    "locations_list_set = sorted(data[\"장소\"].unique())\n",
    "del_list = []\n",
    "for loc in locations_list_set:\n",
    "    loc_a = loc.replace(' ', '')\n",
    "    del_list.append((loc, loc_a)) # 띄어쓰기 지우고 튜플 형태로 받음\n",
    "# for i, ii in del_list:\n",
    "#     print(i)"
   ]
  },
  {
   "cell_type": "code",
   "execution_count": null,
   "id": "90d860a2",
   "metadata": {
    "scrolled": true
   },
   "outputs": [],
   "source": [
    "for ori, new in del_list[4:]: #error뜨는 몇 개 제외 작업\n",
    "    # data[\"장소\"] = data[\"장소\"].str.replace(ori, new)\n",
    "    data = data.replace({\"장소\" : ori}, new)"
   ]
  },
  {
   "cell_type": "code",
   "execution_count": null,
   "id": "9d89aa9b",
   "metadata": {},
   "outputs": [],
   "source": [
    "print(len(sorted(data[\"장소\"].unique())))\n",
    "sorted(data[\"장소\"].unique())"
   ]
  },
  {
   "cell_type": "markdown",
   "id": "9c6446fe",
   "metadata": {},
   "source": [
    "- 영어 이름 변환"
   ]
  },
  {
   "cell_type": "code",
   "execution_count": null,
   "id": "8052ce6d",
   "metadata": {},
   "outputs": [],
   "source": [
    "data[\"장소\"] = data[\"장소\"].str.replace(\"Cheongnyeongpo\",\"청령포\")\n",
    "data[\"장소\"] = data[\"장소\"].str.replace(\"CheongpyeongsaTemple\",\"청평사\")\n",
    "data[\"장소\"] = data[\"장소\"].str.replace(\"ChuncheonStationTouristInformationCenter\",\"춘천역관광안내소\")\n",
    "data[\"장소\"] = data[\"장소\"].str.replace(\"GangwonJonghapMuseum\",\"강원종합박물관\")\n",
    "data[\"장소\"] = data[\"장소\"].str.replace(\"High1SkiResort\",\"하이원스키장\")\n",
    "data[\"장소\"] = data[\"장소\"].str.replace(\"HoyaMuseumofGeography\",\"호야지리박물관\")\n",
    "data[\"장소\"] = data[\"장소\"].str.replace(\"KoreaSkiMuseum\",\"한국스키박물관\")\n",
    "data[\"장소\"] = data[\"장소\"].str.replace(\"ShinyoungGeukjang\",\"강릉독립예술극장신영\")\n",
    "data[\"장소\"] = data[\"장소\"].str.replace(\"TowBowlingjang\",\"토우볼링장\")"
   ]
  },
  {
   "cell_type": "markdown",
   "id": "ecb19b4b",
   "metadata": {},
   "source": [
    "- 공공데이터와 일치하는 이름으로 통일\n",
    "- 일부 장소의 경우 사이트에 기재된 이름 등으로 임의로 통합"
   ]
  },
  {
   "cell_type": "code",
   "execution_count": null,
   "id": "61a01081",
   "metadata": {},
   "outputs": [],
   "source": [
    "data = data.replace({\"장소\" : \"365 세이프타운\"},\"365세이프타운\")\n",
    "# data = data.replace({\"장소\" : \"가리산\"},\"가리산자연휴양림\")\n",
    "# data = data.replace({\"장소\" : \"감악산\"},\"감악산캠핑숲\")\n",
    "data = data.replace({\"장소\" : \"경포호철새서식지\"},\"경포호\")\n",
    "data = data.replace({\"장소\" : \"춘천시구곡폭포관광지관리사무소\"},\"구곡폭포\")\n",
    "data = data.replace({\"장소\" : \"원주구룡사보광루\"},\"구룡사\")\n",
    "data = data.replace({\"장소\" : \"미천골\"},\"국립미천골자연휴양림\")\n",
    "data = data.replace({\"장소\" : \"미천골계곡\"},\"국립미천골자연휴양림\")\n",
    "data = data.replace({\"장소\" : \"도사곡휴양림\"},\"도사곡휴양림&야영장\")\n",
    "data = data.replace({\"장소\" : \"동강래프팅-당일투어\"},\"동강레포츠\")\n",
    "data = data.replace({\"장소\" : \"속초등대전망대\"},\"등대전망대\")\n",
    "data = data.replace({\"장소\" : \"등대해수욕장\"},\"등대해변/등대해수욕장\")\n",
    "# data = data.replace({\"장소\" : \"몰운대\"},\"몰운대\") ### 공공데이터에는 [몰운대절벽]과 [몰운대등산로]만 존재\n",
    "# data = data.replace({\"장소\" : \"무릉계곡\"},\"무릉계곡힐링캠핑장\")\n",
    "data = data.replace({\"장소\" : \"묵호등대해양문화공간\"},\"묵호항\")\n",
    "data = data.replace({\"장소\" : \"속삭이는자작나무숲\"},\"원대리자작나무숲\")\n",
    "data = data.replace({\"장소\" : \"백담사(百潭寺)\"},\"백담사\")\n",
    "# data = data.replace({\"장소\" : \"오대산국립공원\"},\"오대산국립공원월정사지구\")\n",
    "data = data.replace({\"장소\" : \"오대산월정사\"},\"월정사\")\n",
    "data = data.replace({\"장소\" : \"스마트코리아-프라이빗설악산당일투어\"},\"설악산국립공원\")\n",
    "# data = data.replace({\"장소\" : \"설악산국립공원\"},\"설악산국립공원\")  ### 공공데이터에는 [설악산국립공원설악동지구]와 [설악산국립공원오색지구]로 나뉘어있음\n",
    "data = data.replace({\"장소\" : \"설악테디베어뮤지엄\"},\"테디베어박물관\")\n",
    "data = data.replace({\"장소\" : \"테디베어뮤지엄설악\"},\"테디베어박물관\")\n",
    "data = data.replace({\"장소\" : \"속초설악해맞이공원\"},\"설악해맞이공원\")\n",
    "data = data.replace({\"장소\" : \"소양강댐\"},\"소양호\")\n",
    "data = data.replace({\"장소\" : \"속초시립박물관&실향민문화촌\"},\"속초시립박물관\")\n",
    "data = data.replace({\"장소\" : \"아라나비\"},\"아라나비체험\")\n",
    "data = data.replace({\"장소\" : \"정선아라리촌\"},\"아라리촌\")\n",
    "data = data.replace({\"장소\" : \"양구근현대사박물관\"},\"근현대사박물관\")\n",
    "data = data.replace({\"장소\" : \"영월장릉\"},\"장릉\")\n",
    "# data = data.replace({\"장소\" : \"오대산국립공원\"},\"오대산국립공원\") ## 공공데이터에는 [오대산국립공원소금강지구]와 [오대산국립공원월정사지구]로 나뉘어있음\n",
    "data = data.replace({\"장소\" : \"오색용소폭포\"},\"용소폭포\")\n",
    "data = data.replace({\"장소\" : \"오죽헌시립박물관\"},\"오죽헌\")\n",
    "data = data.replace({\"장소\" : \"알펜시아리조트스키장\"},\"알펜시아스키장\")\n",
    "data = data.replace({\"장소\" : \"알펜시아리조트스키장&알파인코스터\"},\"알펜시아스키장\")\n",
    "data = data.replace({\"장소\" : \"외옹치\"},\"외옹치항\")\n",
    "data = data.replace({\"장소\" : \"외옹치바다향기로\"},\"외옹치항\")\n",
    "# data = data.replace({\"장소\" : \"용연사\"},\"용연사템플스테이\")\n",
    "data = data.replace({\"장소\" : \"용화산\"},\"용화산자연휴양림\")\n",
    "data = data.replace({\"장소\" : \"용화해수욕장\"},\"용화해변\")\n",
    "# data = data.replace({\"장소\" : \"울산암각화박물관\"},\"설악산국립공원\")\n",
    "data = data.replace({\"장소\" : \"원주기후변화홍보관\"},\"기후변화홍보관\")\n",
    "data = data.replace({\"장소\" : \"간현원주레일파크\"},\"원주레일파크\")\n",
    "data = data.replace({\"장소\" : \"원주한지테마파크\"},\"한지테마파크\")\n",
    "data = data.replace({\"장소\" : \"이효석생가터\"},\"이효석생가\")\n",
    "data = data.replace({\"장소\" : \"이효석문화마을\"},\"효석문화마을\")\n",
    "data = data.replace({\"장소\" : \"정동진\"},\"정동진해변\")\n",
    "data = data.replace({\"장소\" : \"정선화암동굴\"},\"정선화암굴\")\n",
    "data = data.replace({\"장소\" : \"주문진\"},\"주문진항\")\n",
    "data = data.replace({\"장소\" : \"주문진해수욕장\"},\"주문진해변\")\n",
    "data = data.replace({\"장소\" : \"에디슨과학박물관\"},\"참소리축음기·에디슨과학박물관\")\n",
    "data = data.replace({\"장소\" : \"참소리축음기에디슨과학박물관\"},\"참소리축음기·에디슨과학박물관\")\n",
    "data = data.replace({\"장소\" : \"척산온천장\"},\"척산족욕공원\")\n",
    "data = data.replace({\"장소\" : \"천곡천연동굴\"},\"천곡황금박쥐동굴\")\n",
    "data = data.replace({\"장소\" : \"춘천인형극극장\"},\"춘천인형극장\")\n",
    "# data = data.replace({\"장소\" : \"치악산국립공원\"},\"치악산국립공원\") ## 공공데이터에는 [치악산국립공원구룡사지구]와 [치악산국립공원황골지구]로 나뉘어있음\n",
    "data = data.replace({\"장소\" : \"고성통일전망대\"},\"통일전망대\")\n",
    "# data = data.replace({\"장소\" : \"팔봉산\"},\"팔봉산관광지야영장\")\n",
    "data = data.replace({\"장소\" : \"휘닉스평창\"},\"평창휘닉스파크스키장\")\n",
    "data = data.replace({\"장소\" : \"하슬라아트월드\"},\"하슬라아트월드·피노키오미술관\")\n",
    "data = data.replace({\"장소\" : \"화진포해수욕장\"},\"화진포해변\")"
   ]
  },
  {
   "cell_type": "code",
   "execution_count": null,
   "id": "cb115172",
   "metadata": {},
   "outputs": [],
   "source": [
    "data = data.replace({\"장소\" : \"강릉선교장\"},\"선교장\")\n",
    "data = data.replace({\"장소\" : \"고성왕곡마을\"},\"왕곡마을\")\n",
    "data = data.replace({\"장소\" : \"공작산수타사\"},\"수타사\")\n",
    "data = data.replace({\"장소\" : \"공지천유원지\"},\"공지천\")\n",
    "data = data.replace({\"장소\" : \"대한불교조계종수타사\"},\"수타사\")\n",
    "data = data.replace({\"장소\" : \"병방치스카이워크\"},\"아리힐스-스카이워크\")\n",
    "data = data.replace({\"장소\" : \"삼척해양레일바이크\"},\"해양레일바이크\")\n",
    "data = data.replace({\"장소\" : \"소돌아들바위공원\"},\"소돌아들바위\")\n",
    "data = data.replace({\"장소\" : \"속초엑스포타워\"},\"엑스포타워\")\n",
    "data = data.replace({\"장소\" : \"송지호해수욕장\"},\"송지호해변\")\n",
    "data = data.replace({\"장소\" : \"스카이워크전망대\"},\"아리힐스-스카이워크\")\n",
    "data = data.replace({\"장소\" : \"어라연계곡(동강)\"},\"동강어라연\")\n",
    "data = data.replace({\"장소\" : \"어라연계곡\"},\"동강어라연\")\n",
    "data = data.replace({\"장소\" : \"엑스포타워상징탑\"},\"엑스포타워\")\n",
    "data = data.replace({\"장소\" : \"원주시역사박물관\"},\"원주역사박물관\")\n",
    "data = data.replace({\"장소\" : \"의암호스카이워크\"},\"의암스카이워크\")\n",
    "data = data.replace({\"장소\" : \"제이드가든수목원\"},\"제이드가든\")\n",
    "data = data.replace({\"장소\" : \"춘천막국수체험박물관\"},\"막국수체험박물관\")\n",
    "data = data.replace({\"장소\" : \"춘천물레길\"},\"물레길\")\n",
    "data = data.replace({\"장소\" : \"커피박물관기획부\"},\"커피박물관\")\n",
    "data = data.replace({\"장소\" : \"태백고원자연휴양림\"},\"고원자연휴양림\")"
   ]
  },
  {
   "cell_type": "code",
   "execution_count": null,
   "id": "572f52a5",
   "metadata": {},
   "outputs": [],
   "source": [
    "data = data.replace({\"장소\" : \"간현유원지\"},\"간현관광지\")\n",
    "data = data.replace({\"장소\" : \"강촌레일파크\"},\"레일바이크\")\n",
    "data = data.replace({\"장소\" : \"고씨동굴\"},\"고씨굴\")\n",
    "data = data.replace({\"장소\" : \"구봉산전망대카페거리\"},\"구봉산카페거리\")\n",
    "data = data.replace({\"장소\" : \"김삿갓유적지\"},\"영월군김삿갓유적지\")\n",
    "data = data.replace({\"장소\" : \"낙산해수욕장\"},\"낙산해변\")\n",
    "data = data.replace({\"장소\" : \"망상해수욕장\"},\"망상해변\")\n",
    "data = data.replace({\"장소\" : \"메타세콰이어가로수길\"},\"남이섬\")\n",
    "data = data.replace({\"장소\" : \"백마고지전적지\"},\"백마고지전적관\")\n",
    "data = data.replace({\"장소\" : \"삼포해수욕장\"},\"삼포해변\")\n",
    "data = data.replace({\"장소\" : \"선암마을한반도지형\"},\"영월한반도지형\")\n",
    "data = data.replace({\"장소\" : \"설악산국립공원사무소\"},\"설악산국립공원\")\n",
    "data = data.replace({\"장소\" : \"소나타오브라이트\"},\"한솔오크밸리골프장\")\n",
    "data = data.replace({\"장소\" : \"속초해수욕장\"},\"속초해변\")\n",
    "data = data.replace({\"장소\" : \"안목해수욕장\"},\"안목해변\")\n",
    "data = data.replace({\"장소\" : \"알펜시아스키점프라운지\"},\"알펜시아스키장\")\n",
    "data = data.replace({\"장소\" : \"영시암\"},\"백담사\")\n",
    "data = data.replace({\"장소\" : \"오세암\"},\"백담사\")\n",
    "data = data.replace({\"장소\" : \"오투리조트\"},\"오투리조트스키장\")\n",
    "data = data.replace({\"장소\" : \"용소폭포\"},\"오색용소폭포\")\n",
    "data = data.replace({\"장소\" : \"용평리조트곤돌라\"},\"용평리조트\")  ## 공공데이터에 없음!\n",
    "data = data.replace({\"장소\" : \"용평스키여행\"},\"용평리조트\")  ## 공공데이터에 없음!\n",
    "data = data.replace({\"장소\" : \"의상대\"},\"낙산사의상대\")\n",
    "data = data.replace({\"장소\" : \"육백마지기\"},\"청옥산도깨비길\")\n",
    "data = data.replace({\"장소\" : \"육림랜드\"},\"춘천육림랜드\")\n",
    "data = data.replace({\"장소\" : \"의야지바람정보화마을\"},\"의야지바람마을\")\n",
    "data = data.replace({\"장소\" : \"정관루\"},\"남이섬\")\n",
    "data = data.replace({\"장소\" : \"정동심곡바다부채길\"},\"정동진해변\")\n",
    "data = data.replace({\"장소\" : \"준상이네집 (겨울연가 촬영지)\"},\"준상이네집(겨울연가촬영지)\")\n",
    "data = data.replace({\"장소\" : \"죽도해수욕장\"},\"죽도해변\")\n",
    "data = data.replace({\"장소\" : \"천주교풍수원교회\"},\"횡성풍수원성당\")\n",
    "data = data.replace({\"장소\" : \"천주교풍수원성당\"},\"횡성풍수원성당\")\n",
    "data = data.replace({\"장소\" : \"천진해수욕장\"},\"천진해변\")\n",
    "data = data.replace({\"장소\" : \"철원평화전망대\"},\"평화전망대(모노레일)\")\n",
    "data = data.replace({\"장소\" : \"철의삼각전적지\"},\"철의삼각전적관\")\n",
    "data = data.replace({\"장소\" : \"추암해수욕장\"},\"추암해변\")\n",
    "data = data.replace({\"장소\" : \"클럽요트마스터\"},\"강릉항요트마리나\")\n",
    "data = data.replace({\"장소\" : \"평화의댐-화천\"},\"물문화관(평화의댐)\")\n",
    "data = data.replace({\"장소\" : \"피크아일랜드\"},\"용평피크아일랜드\")\n",
    "data = data.replace({\"장소\" : \"하이원리조트알파인코스터\"},\"하이원리조트\")  ## 공공데이터에 없음!\n",
    "data = data.replace({\"장소\" : \"하이원스키장\"},\"하이원리조트\")  ## 공공데이터에 없음!\n",
    "data = data.replace({\"장소\" : \"한얼문예박물관\"},\"횡성한얼문예박물관\")\n",
    "data = data.replace({\"장소\" : \"해피초원목장\"},\"Happy초원목장\")\n",
    "data = data.replace({\"장소\" : \"홍천은행나무숲\"},\"광원리은행나무숲\")\n",
    "data = data.replace({\"장소\" : \"화천민속박물관\"},\"화천박물관\")  ## 공공데이터에 없음!\n",
    "data = data.replace({\"장소\" : \"휘닉스블루캐니언\"},\"휘닉스파크블루캐니언\")"
   ]
  },
  {
   "cell_type": "code",
   "execution_count": null,
   "id": "8b36219b",
   "metadata": {},
   "outputs": [],
   "source": [
    "replaced_list = sorted(data[\"장소\"].unique())\n",
    "len(replaced_list)"
   ]
  },
  {
   "cell_type": "markdown",
   "id": "37166410",
   "metadata": {},
   "source": [
    "- 공공데이터 파일 불러오기"
   ]
  },
  {
   "cell_type": "code",
   "execution_count": null,
   "id": "5e9991b9",
   "metadata": {
    "collapsed": true
   },
   "outputs": [],
   "source": [
    "data_placelist = pd.read_csv(\"../data/Gangwon_trip_place_list.csv\")\n",
    "\n",
    "# 띄어쓰기 삭제\n",
    "place_info_list = sorted(data_placelist['대표제목'].unique())\n",
    "del_list2 = []\n",
    "for loc2 in place_info_list:\n",
    "    loc_b = loc2.replace(' ', '')\n",
    "    del_list2.append((loc2, loc_b))"
   ]
  },
  {
   "cell_type": "code",
   "execution_count": null,
   "id": "3750dc88",
   "metadata": {
    "collapsed": true
   },
   "outputs": [],
   "source": [
    "for ori, new in del_list2:\n",
    "    data_placelist['대표제목'] = data_placelist['대표제목'].str.replace(ori, new)\n",
    "\n",
    "print(len(data_placelist['대표제목'].unique()))"
   ]
  },
  {
   "cell_type": "code",
   "execution_count": null,
   "id": "781bb762",
   "metadata": {},
   "outputs": [],
   "source": [
    "sorted(data_placelist['대표제목'].unique())"
   ]
  },
  {
   "cell_type": "code",
   "execution_count": null,
   "id": "99bd39c7",
   "metadata": {},
   "outputs": [],
   "source": [
    "list1 = [] #공공데이터에 없는 장소\n",
    "list2 = [] #공공데이터에 있는 장소\n",
    "for pl in replaced_list :\n",
    "    if pl not in data_placelist['대표제목'].unique():\n",
    "        list1.append(pl)\n",
    "    else:\n",
    "        list2.append(pl)\n",
    "print('공공데이터와 불일치:', len(list1))\n",
    "print('공공데이터와 일치:',len(list2))"
   ]
  },
  {
   "cell_type": "code",
   "execution_count": null,
   "id": "68175b60",
   "metadata": {},
   "outputs": [],
   "source": [
    "data.loc[data.장소 == \"남이섬\"]"
   ]
  },
  {
   "cell_type": "code",
   "execution_count": null,
   "id": "7d572ff1",
   "metadata": {
    "collapsed": true
   },
   "outputs": [],
   "source": [
    "data.리뷰"
   ]
  },
  {
   "cell_type": "markdown",
   "id": "d9c23298",
   "metadata": {},
   "source": [
    "# 3. 데이터 가공"
   ]
  },
  {
   "cell_type": "markdown",
   "id": "8bbb4f02",
   "metadata": {},
   "source": [
    "## 3.1 불용어 사전"
   ]
  },
  {
   "cell_type": "code",
   "execution_count": null,
   "id": "9c19b0a5",
   "metadata": {},
   "outputs": [],
   "source": [
    "stopwords = pd.read_csv(\"https://raw.githubusercontent.com/yoonkt200/FastCampusDataset/master/korean_stopwords.txt\").values.tolist()\n",
    "print(f'불용어 단어 추가 전 : {len(stopwords)}개')\n",
    "stopword_list = [\"은\",\"는\",\"이\",\"가\",\"를\",\"을\",\"과\",\"와\",\"매우\",\"수\",\"것\",\"가장\",\"타고\",\"오거\",\"등\",\"시\",\"약\",\"원\",\"온\",\"우리\",\n",
    "                \"때\",\"조금\",\"통해\",\"여러\",\"의\",\"년\",\"여기\",\"서서\",\"때로는\",\"위해\",\"볼\",\"바\",\"원래\",\"또\",\"꼭\",\"곳\",\"모든\",\n",
    "                \"완전\",\"월\",\"일\",\"및\",\"탈\",\"롭습니\",\"빨\",\"이기\",\"때문\",\"가야\",\"고\",\"후\",\"나\",\"로\",\"번\",\"함\",\"달리\",\n",
    "                \"가지\",\"얀\",\"찍\",\"크게\",\"남\",\"이나라\",\"난이\",\"가도\",\"새\",\"음고\",\"넉\",\"박\",\"두\",\"작\",\"가득\",\"첫\",\"샷\",\"수삼\",\n",
    "                \"훈춘\",\"분\",\"난이\",\"인\",\"페리\",\"캐\",\"갑자기\",\"즉시\",\"보고\",\"날\",\"명\",\"말\",\"내내\",\"인용\",\"절대\",\"개\",\"데\",\n",
    "                \"직접\",\"동안\",\"걸\",\"더\",\"서면\",\"움\",\"그\",\"가면\",\"내\",\"어디\",\"그것\",\"이것\",\"저것\",\"진\",\"다른\",\"하나\",\"살\",\"거나\",\n",
    "                \"대한\",\"민국\",\"자마자\",\"항상\",\"만\",\"즉\",\"제\",\"인터\",\"랙티브\",\"글쎄\",\"채\",\"전\",\"각\",\"또한\",\"또\",\"아주\",\"징\",\"도\",\n",
    "                \"놀\",\"맨\",\"저기\",\"여기\",\"거기\",\"지난\",\"대해\",\"가면\",\"뒤집혔다\",\"행\",\"이제\",\"게\",\"이이\",\"정말\",\"물든\",\"보아\",\n",
    "                \"한번\",\"용\",\"보\",\"웨이\",\"주로\",\"작고\",\"번만\",\"산이\",\"우뚝\",\"보이\",\"며\",\"시경\",\"진진\",\"동지나해\",\"이번\",\"저번\",\n",
    "                \"비롯\",\"푸른\",\"중\",\"약간\",\"보지\",\"거의\",\"몇\",\"달\",\"모두\",\"말로\",\"듭니\",\"시오\",\"취하\",\"기\",\"드니\",\"로이\",\"말로\",\n",
    "                \"직후\",\"무척\",\"다음\",\"쯤\",\"가파르\",\"데리\",\"치\",\"수백\",\"단지\",\"제대로\",\"가가\",\"가까이\"]\n",
    "for word in stopword_list:\n",
    "    stopwords.append(word)\n",
    "print(f'불용어 단어 추가 후 : {len(stopwords)}개')"
   ]
  },
  {
   "cell_type": "markdown",
   "id": "17ecbe39",
   "metadata": {},
   "source": [
    "## 3.2 데이터 단어 추출 함수"
   ]
  },
  {
   "cell_type": "code",
   "execution_count": null,
   "id": "d6209fc4",
   "metadata": {},
   "outputs": [],
   "source": [
    "def text_cleaning(text):\n",
    "    hangle = re.compile('[^ ㄱ-ㅣ 가-힣]') # 정규표현식 제거 단어\n",
    "    result = hangle.sub('', text)        # 정규표현식 제거 단어 적용\n",
    "    okt = Okt()                            # 단어 형태소 분석 모델\n",
    "    nouns = okt.nouns(result)              # 단어 형태소 분석\n",
    "    nouns = [x for x in nouns if x not in  stopwords]      # 불용어 제거\n",
    "    return nouns"
   ]
  },
  {
   "cell_type": "code",
   "execution_count": null,
   "id": "738d5801",
   "metadata": {},
   "outputs": [],
   "source": [
    "from sklearn.feature_extraction.text import CountVectorizer\n",
    "\n",
    "vect = CountVectorizer(tokenizer = lambda x: text_cleaning(x))\n",
    "bow_vect = vect.fit_transform(data[\"리뷰\"].tolist())\n",
    "word_list = vect.get_feature_names()\n",
    "count_list = bow_vect.toarray().sum(axis =0)"
   ]
  },
  {
   "cell_type": "code",
   "execution_count": null,
   "id": "1dc9b841",
   "metadata": {},
   "outputs": [],
   "source": [
    "pd.DataFrame(word_list)"
   ]
  },
  {
   "cell_type": "markdown",
   "id": "2a25cbea",
   "metadata": {},
   "source": [
    "# 4. 시각화"
   ]
  },
  {
   "cell_type": "markdown",
   "id": "e24a7347",
   "metadata": {},
   "source": [
    "## 4.1 평점에 따른 단어 빈도 데이터"
   ]
  },
  {
   "cell_type": "markdown",
   "id": "88bb8555",
   "metadata": {},
   "source": [
    "### 4.1.1 데이터 그룹화"
   ]
  },
  {
   "cell_type": "code",
   "execution_count": null,
   "id": "16ae47dc",
   "metadata": {},
   "outputs": [],
   "source": [
    "place_list = data[\"장소\"].value_counts().index\n",
    "score_5_review_list = data.groupby(\"평점\").get_group(\"5\")\n",
    "score_4_review_list = data.groupby(\"평점\").get_group(\"4\") \n",
    "score_3_review_list = data.groupby(\"평점\").get_group(\"3\") \n",
    "score_2_review_list = data.groupby(\"평점\").get_group(\"2\") \n",
    "score_1_review_list = data.groupby(\"평점\").get_group(\"1\")\n",
    "score_no_review_list = data.groupby(\"평점\").get_group(\"평가없음\")"
   ]
  },
  {
   "cell_type": "markdown",
   "id": "cbe1d3e9",
   "metadata": {},
   "source": [
    "### 4.1.2 데이터 명사 추출"
   ]
  },
  {
   "cell_type": "code",
   "execution_count": null,
   "id": "cb7010d6",
   "metadata": {},
   "outputs": [],
   "source": [
    "import re\n",
    "from konlpy.tag import Okt\n",
    "from collections import Counter\n",
    "\n",
    "\n",
    "place_list = data[\"장소\"].value_counts().index\n",
    "def noun_filter(text):\n",
    "    review_corpus = []\n",
    "    for place in place_list:\n",
    "        corpus = \"\".join(text.loc[text[\"장소\"] == place][\"리뷰\"].tolist())\n",
    "        hangle = re.compile('[^ ㄱ-ㅣ 가-힣]') # 정규표현식 제거 단어\n",
    "        result = hangle.sub('', corpus)        # 정규표현식 제거 단어 적용\n",
    "        okt = Okt()                            # 단어 형태소 분석 모델\n",
    "        nouns = okt.nouns(result)              # 단어 형태소 분석\n",
    "        nouns = [x for x in nouns if x not in  stopwords]      # 불용어 제거\n",
    "        review_corpus.append(nouns)\n",
    "    return review_corpus"
   ]
  },
  {
   "cell_type": "code",
   "execution_count": null,
   "id": "d6c094f2",
   "metadata": {},
   "outputs": [],
   "source": [
    "score_5_nouns = noun_filter(score_5_review_list)\n",
    "score_4_nouns = noun_filter(score_4_review_list)\n",
    "score_3_nouns = noun_filter(score_3_review_list)\n",
    "score_2_nouns = noun_filter(score_2_review_list)\n",
    "score_1_nouns = noun_filter(score_1_review_list)\n",
    "score_no_nouns = noun_filter(score_no_review_list)"
   ]
  },
  {
   "cell_type": "code",
   "execution_count": null,
   "id": "9b6cb90d",
   "metadata": {
    "collapsed": true
   },
   "outputs": [],
   "source": [
    "score_5_nouns"
   ]
  },
  {
   "cell_type": "markdown",
   "id": "ca00a229",
   "metadata": {},
   "source": [
    "### 4.1.3 단어 개수 세우는 함수"
   ]
  },
  {
   "cell_type": "code",
   "execution_count": null,
   "id": "1fcc24cf",
   "metadata": {},
   "outputs": [],
   "source": [
    "def counting_noun(text_list):\n",
    "    score_nouns_cnt = []\n",
    "    for nouns in text_list :\n",
    "        score_nouns_cnt.append(Counter(nouns))\n",
    "    return score_nouns_cnt"
   ]
  },
  {
   "cell_type": "code",
   "execution_count": null,
   "id": "eb047d08",
   "metadata": {},
   "outputs": [],
   "source": [
    "score_5_nouns_cnt = counting_noun(score_5_nouns)\n",
    "score_4_nouns_cnt = counting_noun(score_4_nouns)\n",
    "score_3_nouns_cnt = counting_noun(score_3_nouns)\n",
    "score_2_nouns_cnt = counting_noun(score_2_nouns)\n",
    "score_1_nouns_cnt = counting_noun(score_1_nouns)\n",
    "score_no_nouns_cnt = counting_noun(score_no_nouns)"
   ]
  },
  {
   "cell_type": "code",
   "execution_count": null,
   "id": "9e71fde1",
   "metadata": {
    "scrolled": true
   },
   "outputs": [],
   "source": [
    "score_5_nouns_cnt"
   ]
  },
  {
   "cell_type": "markdown",
   "id": "4312eafd",
   "metadata": {},
   "source": [
    "### 4.1.4 단어 Top10 DF 만들기"
   ]
  },
  {
   "cell_type": "code",
   "execution_count": null,
   "id": "61d5fe05",
   "metadata": {},
   "outputs": [],
   "source": [
    "def place_word_DF(noun_cnt_name,word_cnt,score):\n",
    "    noun_cnt_df =[]\n",
    "    for place_number,place in enumerate(place_list) :\n",
    "        for number in range(word_cnt):\n",
    "            try :\n",
    "                keyword = noun_cnt_name[place_number].most_common(word_cnt)[number][0]\n",
    "                keyword_cnt = noun_cnt_name[place_number].most_common(word_cnt)[number][1]\n",
    "                word_cnt_list = [place,score,number+1,keyword,keyword_cnt]\n",
    "                noun_cnt_df.append(word_cnt_list)\n",
    "            except IndexError:\n",
    "                keyword = \"\"\n",
    "                keyword_cnt = \"\"\n",
    "                word_cnt_list = [place,score,number+1,keyword,keyword_cnt]\n",
    "                noun_cnt_df.append(word_cnt_list)\n",
    "    place_word_DF = pd.DataFrame(noun_cnt_df, columns = [\"장소\",\"평점\",\"순위\",\"단어\",\"단어개수\"])\n",
    "    return place_word_DF"
   ]
  },
  {
   "cell_type": "code",
   "execution_count": null,
   "id": "4579da62",
   "metadata": {},
   "outputs": [],
   "source": [
    "place_word_DF_data = pd.concat([place_word_DF(score_5_nouns_cnt,10,5),\n",
    "                               place_word_DF(score_4_nouns_cnt,10,4),\n",
    "                               place_word_DF(score_3_nouns_cnt,10,3),\n",
    "                               place_word_DF(score_2_nouns_cnt,10,2),\n",
    "                               place_word_DF(score_1_nouns_cnt,10,1),\n",
    "                               place_word_DF(score_no_nouns_cnt,10,\"no\")], axis =0)"
   ]
  },
  {
   "cell_type": "code",
   "execution_count": null,
   "id": "07e4400d",
   "metadata": {},
   "outputs": [],
   "source": [
    "place_word_DF_data"
   ]
  },
  {
   "cell_type": "markdown",
   "id": "c7823bbd",
   "metadata": {},
   "source": [
    "### 4.1.5 장소별 단어 Top10 비교"
   ]
  },
  {
   "cell_type": "markdown",
   "id": "c6ea24fe",
   "metadata": {},
   "source": [
    "#### 4.1.5.1 Best Keyword 비교"
   ]
  },
  {
   "cell_type": "code",
   "execution_count": null,
   "id": "8110f44c",
   "metadata": {},
   "outputs": [],
   "source": [
    "place_Top10_keyword_list = place_word_DF_data"
   ]
  },
  {
   "cell_type": "code",
   "execution_count": null,
   "id": "5765162b",
   "metadata": {
    "scrolled": true
   },
   "outputs": [],
   "source": [
    "place_Top10_keyword_list.loc[(place_Top10_keyword_list.평점 == 5) &(place_Top10_keyword_list.순위 == 1)][\"단어\"].value_counts().sort_values(ascending = False)"
   ]
  }
 ],
 "metadata": {
  "kernelspec": {
   "display_name": "Python 3.8.8 64-bit",
   "language": "python",
   "name": "python3"
  },
  "language_info": {
   "codemirror_mode": {
    "name": "ipython",
    "version": 3
   },
   "file_extension": ".py",
   "mimetype": "text/x-python",
   "name": "python",
   "nbconvert_exporter": "python",
   "pygments_lexer": "ipython3",
   "version": "3.8.8"
  },
  "vscode": {
   "interpreter": {
    "hash": "bde645a6575f1948222f5dc7a22ffdef85b93a54835d0f068c9c4493238a49ab"
   }
  }
 },
 "nbformat": 4,
 "nbformat_minor": 5
}
